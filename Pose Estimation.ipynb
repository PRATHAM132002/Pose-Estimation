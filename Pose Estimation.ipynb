{
 "cells": [
  {
   "cell_type": "code",
   "execution_count": 1,
   "id": "e8359ac1",
   "metadata": {},
   "outputs": [],
   "source": [
    "def pose_estimation():\n",
    "    import cv2\n",
    "    import mediapipe as mp\n",
    "    # import numpy as np\n",
    "    mp_drawing = mp.solutions.drawing_utils\n",
    "    mp_pose = mp.solutions.pose\n",
    "    \n",
    "    # Video Feed\n",
    "    cap = cv2.VideoCapture(0)\n",
    "        \n",
    "    # Setup mediapipe instance\n",
    "    with mp_pose.Pose(min_detection_confidence=0.5, min_tracking_confidence=0.5) as pose:\n",
    "        while cap.isOpened():\n",
    "            \n",
    "            ret, frame = cap.read()\n",
    "\n",
    "            # Flip CAM View for Selfie-view\n",
    "            frame = cv2.flip(frame, 1)\n",
    "\n",
    "            # Recolor image to RGB\n",
    "            image = cv2.cvtColor(frame, cv2.COLOR_BGR2RGB)\n",
    "            image.flags.writeable = False\n",
    "\n",
    "            # Make Detection\n",
    "            results = pose.process(image)\n",
    "\n",
    "            # Reclolr back to BGR\n",
    "            image.flags.writeable = True\n",
    "            image = cv2.cvtColor(image, cv2.COLOR_RGB2BGR)\n",
    "\n",
    "            # Rendering Detection & changing colors \n",
    "            mp_drawing.draw_landmarks(image, results.pose_landmarks, mp_pose.POSE_CONNECTIONS,\n",
    "                                      mp_drawing.DrawingSpec(color=(0,156,0), thickness=2, circle_radius=2),\n",
    "                                      mp_drawing.DrawingSpec(color=(245,0,230), thickness=2, circle_radius=2)\n",
    "                                     )\n",
    "\n",
    "            cv2.imshow('Pose-Prediction', image)\n",
    "\n",
    "            # Press Q to quit\n",
    "            if cv2.waitKey(10) & 0xFF == ord('q'):\n",
    "                break\n",
    "\n",
    "        cap.release()\n",
    "        cv2.destroyAllWindows()\n",
    "pose_estimation()"
   ]
  },
  {
   "cell_type": "code",
   "execution_count": null,
   "id": "88d8f809",
   "metadata": {},
   "outputs": [],
   "source": []
  }
 ],
 "metadata": {
  "kernelspec": {
   "display_name": "Python 3 (ipykernel)",
   "language": "python",
   "name": "python3"
  },
  "language_info": {
   "codemirror_mode": {
    "name": "ipython",
    "version": 3
   },
   "file_extension": ".py",
   "mimetype": "text/x-python",
   "name": "python",
   "nbconvert_exporter": "python",
   "pygments_lexer": "ipython3",
   "version": "3.9.7"
  }
 },
 "nbformat": 4,
 "nbformat_minor": 5
}
